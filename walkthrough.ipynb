{
 "cells": [
  {
   "cell_type": "markdown",
   "metadata": {},
   "source": [
    "# Anomaly detection in Images\n",
    "\n",
    "Anomaly detection is a technique used to identify rare items, events, or observations that deviate significantly from the norm. In the context of images, anomalies can be anything that is not normal in the image.\n",
    "The anomalies in images can be easily detected by human eyes. However, it is a challenging task for machines to detect anomalies in images. In this notebook, I will discuss different ways to detect anomalies in images."
   ]
  },
  {
   "cell_type": "markdown",
   "metadata": {},
   "source": [
    "## RANSAC algorithm\n",
    "\n",
    "RANSAC (Random Sample Consensus) is an iterative algorithm used to estimate the parameters of a mathematical model from a set of observed data. The algorithm selects a random subset of the data, fits the model to the subset, and then tests the model on the remaining data. This process helps to identify the outliers in the data, which does not fit to the trend of the data. \n",
    "\n",
    "A detailed steps of RANSAC algorithm is as follows:\n",
    "1. Select a random subset of data points to be *hypothetical inliers*\n",
    "2. Fit the model to the set of *hypothetical inliers*.\n",
    "3. Test all other data points against the fitted model. The points that fit well to the model are considered as *inliers*, and called the *consensus set*.\n",
    "4. Refit the model using all *inliers*.\n",
    "5. Estimate the error of the fitted model.\n",
    "6. Repeat the steps until the model fits the data well enough, or if a set number of iterations have been reached."
   ]
  },
  {
   "cell_type": "markdown",
   "metadata": {},
   "source": []
  }
 ],
 "metadata": {
  "language_info": {
   "name": "python"
  }
 },
 "nbformat": 4,
 "nbformat_minor": 2
}
